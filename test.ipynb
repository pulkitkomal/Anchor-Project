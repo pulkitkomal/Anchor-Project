{
 "cells": [
  {
   "cell_type": "code",
   "execution_count": 1,
   "metadata": {},
   "outputs": [
    {
     "ename": "ModuleNotFoundError",
     "evalue": "No module named 'dotenv'",
     "output_type": "error",
     "traceback": [
      "\u001b[1;31m---------------------------------------------------------------------------\u001b[0m",
      "\u001b[1;31mModuleNotFoundError\u001b[0m                       Traceback (most recent call last)",
      "\u001b[1;32mg:\\Project\\Anchor Project\\test.ipynb Cell 1\u001b[0m in \u001b[0;36m<cell line: 2>\u001b[1;34m()\u001b[0m\n\u001b[0;32m      <a href='vscode-notebook-cell:/g%3A/Project/Anchor%20Project/test.ipynb#X13sZmlsZQ%3D%3D?line=0'>1</a>\u001b[0m \u001b[39mfrom\u001b[39;00m \u001b[39mservices\u001b[39;00m \u001b[39mimport\u001b[39;00m rss, tts\n\u001b[1;32m----> <a href='vscode-notebook-cell:/g%3A/Project/Anchor%20Project/test.ipynb#X13sZmlsZQ%3D%3D?line=1'>2</a>\u001b[0m \u001b[39mfrom\u001b[39;00m \u001b[39mconfig\u001b[39;00m \u001b[39mimport\u001b[39;00m elevenlabs_key\n\u001b[0;32m      <a href='vscode-notebook-cell:/g%3A/Project/Anchor%20Project/test.ipynb#X13sZmlsZQ%3D%3D?line=4'>5</a>\u001b[0m rss_service \u001b[39m=\u001b[39m rss\u001b[39m.\u001b[39mRSS()\n\u001b[0;32m      <a href='vscode-notebook-cell:/g%3A/Project/Anchor%20Project/test.ipynb#X13sZmlsZQ%3D%3D?line=5'>6</a>\u001b[0m tts_service \u001b[39m=\u001b[39m tts\u001b[39m.\u001b[39mTTS(api_key\u001b[39m=\u001b[39melevenlabs_key)\n",
      "File \u001b[1;32mg:\\Project\\Anchor Project\\config.py:2\u001b[0m, in \u001b[0;36m<module>\u001b[1;34m\u001b[0m\n\u001b[0;32m      1\u001b[0m \u001b[39mimport\u001b[39;00m \u001b[39mos\u001b[39;00m\n\u001b[1;32m----> 2\u001b[0m \u001b[39mfrom\u001b[39;00m \u001b[39mdotenv\u001b[39;00m \u001b[39mimport\u001b[39;00m load_dotenv\n\u001b[0;32m      3\u001b[0m load_dotenv(\u001b[39m'\u001b[39m\u001b[39m./env\u001b[39m\u001b[39m'\u001b[39m)\n\u001b[0;32m      5\u001b[0m elevenlabs_key \u001b[39m=\u001b[39m os\u001b[39m.\u001b[39mgetenv(\u001b[39m'\u001b[39m\u001b[39melevenlabs_key\u001b[39m\u001b[39m'\u001b[39m)\n",
      "\u001b[1;31mModuleNotFoundError\u001b[0m: No module named 'dotenv'"
     ]
    }
   ],
   "source": [
    "from services import rss, tts\n",
    "from config import elevenlabs_key\n",
    "\n",
    "\n",
    "rss_service = rss.RSS()\n",
    "tts_service = tts.TTS(api_key=elevenlabs_key)\n",
    "\n",
    "summaries = rss_service.get_summaries()\n",
    "tts_service.generate_save_audio(summaries[0], 'summaries0')"
   ]
  },
  {
   "cell_type": "code",
   "execution_count": null,
   "metadata": {},
   "outputs": [],
   "source": []
  }
 ],
 "metadata": {
  "kernelspec": {
   "display_name": "base",
   "language": "python",
   "name": "python3"
  },
  "language_info": {
   "codemirror_mode": {
    "name": "ipython",
    "version": 3
   },
   "file_extension": ".py",
   "mimetype": "text/x-python",
   "name": "python",
   "nbconvert_exporter": "python",
   "pygments_lexer": "ipython3",
   "version": "3.8.16"
  },
  "orig_nbformat": 4
 },
 "nbformat": 4,
 "nbformat_minor": 2
}
